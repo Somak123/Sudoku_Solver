{
  "nbformat": 4,
  "nbformat_minor": 0,
  "metadata": {
    "colab": {
      "name": "Sudoku_Solver.ipynb",
      "provenance": []
    },
    "kernelspec": {
      "name": "python3",
      "display_name": "Python 3"
    }
  },
  "cells": [
    {
      "cell_type": "code",
      "metadata": {
        "id": "D20kfy-CL34-",
        "colab_type": "code",
        "colab": {}
      },
      "source": [
        "board = [\n",
        "    [7,8,0,4,0,0,1,2,0],\n",
        "    [6,0,0,0,7,5,0,0,9],\n",
        "    [0,0,0,6,0,1,0,7,8],\n",
        "    [0,0,7,0,4,0,2,6,0],\n",
        "    [0,0,1,0,5,0,9,3,0],\n",
        "    [9,0,4,0,6,0,0,0,5],\n",
        "    [0,7,0,3,0,0,0,1,2],\n",
        "    [1,2,0,0,0,7,4,0,0],\n",
        "    [0,4,9,2,0,6,0,0,7]\n",
        "]\n",
        "\n",
        "def print_board(board):\n",
        "  for i in range(9):\n",
        "    if i%3==0 and i!=0:\n",
        "      print(\"-----------------------\")\n",
        "    for j in range(9):\n",
        "      if j%3==0 and j!=0:\n",
        "        print(\" | \",end=\"\")\n",
        "      if j==8:\n",
        "        print(board[i][j])\n",
        "      else:\n",
        "        print(str(board[i][j])+\" \",end=\"\")\n"
      ],
      "execution_count": 0,
      "outputs": []
    },
    {
      "cell_type": "code",
      "metadata": {
        "id": "YYoPeu0uL6Eo",
        "colab_type": "code",
        "colab": {
          "base_uri": "https://localhost:8080/",
          "height": 207
        },
        "outputId": "64cacccf-7e82-43cd-89f5-c1f9646323fe"
      },
      "source": [
        "print_board(board)"
      ],
      "execution_count": 2,
      "outputs": [
        {
          "output_type": "stream",
          "text": [
            "7 8 0  | 4 0 0  | 1 2 0\n",
            "6 0 0  | 0 7 5  | 0 0 9\n",
            "0 0 0  | 6 0 1  | 0 7 8\n",
            "-----------------------\n",
            "0 0 7  | 0 4 0  | 2 6 0\n",
            "0 0 1  | 0 5 0  | 9 3 0\n",
            "9 0 4  | 0 6 0  | 0 0 5\n",
            "-----------------------\n",
            "0 7 0  | 3 0 0  | 0 1 2\n",
            "1 2 0  | 0 0 7  | 4 0 0\n",
            "0 4 9  | 2 0 6  | 0 0 7\n"
          ],
          "name": "stdout"
        }
      ]
    },
    {
      "cell_type": "code",
      "metadata": {
        "id": "gGHqEh7QMGo-",
        "colab_type": "code",
        "colab": {}
      },
      "source": [
        "def find_empty(board):\n",
        "  for i in range(9):\n",
        "    for j in range(9):\n",
        "      if board[i][j]==0:\n",
        "        return (i,j)\n",
        "  return None"
      ],
      "execution_count": 0,
      "outputs": []
    },
    {
      "cell_type": "code",
      "metadata": {
        "id": "isk17XdJMUNo",
        "colab_type": "code",
        "colab": {}
      },
      "source": [
        "def is_possible(x,y,n,board):\n",
        "  for i in range(9):\n",
        "    if(board[x][i]==n):\n",
        "      return False\n",
        "  for i in range(9):\n",
        "    if(board[i][y]==n):\n",
        "      return False\n",
        "  x0=(x//3)*3\n",
        "  y0=(y//3)*3\n",
        "  for i in range(3):\n",
        "    for j in range(3):\n",
        "      if(board[x0+i][y0+j]==n):\n",
        "        return False\n",
        "  return True"
      ],
      "execution_count": 0,
      "outputs": []
    },
    {
      "cell_type": "code",
      "metadata": {
        "id": "9QiIb45NoYXw",
        "colab_type": "code",
        "colab": {}
      },
      "source": [
        "def solve(board):\n",
        "  find=find_empty(board)\n",
        "  if not find:\n",
        "    return True\n",
        "  else:\n",
        "    row,col=find\n",
        "  \n",
        "  for i in range(1,10):\n",
        "    if is_possible(row,col,i,board):\n",
        "      board[row][col]=i\n",
        "\n",
        "      if(solve(board)):\n",
        "        return True\n",
        "      board[row][col]=0\n",
        "  \n",
        "  return False"
      ],
      "execution_count": 0,
      "outputs": []
    },
    {
      "cell_type": "code",
      "metadata": {
        "id": "WXUrWzW_pdL6",
        "colab_type": "code",
        "colab": {
          "base_uri": "https://localhost:8080/",
          "height": 449
        },
        "outputId": "959f32c9-0926-4fac-eb27-e7a489a77f7c"
      },
      "source": [
        "print_board(board)\n",
        "solve(board)\n",
        "print(\"\\nSolved Sudoku Board:\\n\")\n",
        "print_board(board)"
      ],
      "execution_count": 6,
      "outputs": [
        {
          "output_type": "stream",
          "text": [
            "7 8 0  | 4 0 0  | 1 2 0\n",
            "6 0 0  | 0 7 5  | 0 0 9\n",
            "0 0 0  | 6 0 1  | 0 7 8\n",
            "-----------------------\n",
            "0 0 7  | 0 4 0  | 2 6 0\n",
            "0 0 1  | 0 5 0  | 9 3 0\n",
            "9 0 4  | 0 6 0  | 0 0 5\n",
            "-----------------------\n",
            "0 7 0  | 3 0 0  | 0 1 2\n",
            "1 2 0  | 0 0 7  | 4 0 0\n",
            "0 4 9  | 2 0 6  | 0 0 7\n",
            "\n",
            "Solved Sudoku Board:\n",
            "\n",
            "7 8 5  | 4 3 9  | 1 2 6\n",
            "6 1 2  | 8 7 5  | 3 4 9\n",
            "4 9 3  | 6 2 1  | 5 7 8\n",
            "-----------------------\n",
            "8 5 7  | 9 4 3  | 2 6 1\n",
            "2 6 1  | 7 5 8  | 9 3 4\n",
            "9 3 4  | 1 6 2  | 7 8 5\n",
            "-----------------------\n",
            "5 7 8  | 3 9 4  | 6 1 2\n",
            "1 2 6  | 5 8 7  | 4 9 3\n",
            "3 4 9  | 2 1 6  | 8 5 7\n"
          ],
          "name": "stdout"
        }
      ]
    },
    {
      "cell_type": "code",
      "metadata": {
        "id": "iuYoZxTWpiHB",
        "colab_type": "code",
        "colab": {}
      },
      "source": [
        ""
      ],
      "execution_count": 0,
      "outputs": []
    }
  ]
}